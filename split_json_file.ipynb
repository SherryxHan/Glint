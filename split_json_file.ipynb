{
 "cells": [
  {
   "cell_type": "code",
   "execution_count": 1,
   "id": "26aba932",
   "metadata": {},
   "outputs": [],
   "source": [
    "import json\n",
    "\n",
    "def split_json_file(input_file_path, number_of_splits, output_base_name):\n",
    "    with open(input_file_path, 'r') as file:\n",
    "        file_content = file.read()\n",
    "\n",
    "    # 分割为多个 JSON 对象\n",
    "    json_objects = [obj + '}' for obj in file_content.split('}') if obj]\n",
    "\n",
    "    # 计算每个子文件的 JSON 对象数量\n",
    "    objects_per_split = len(json_objects) // number_of_splits\n",
    "\n",
    "    # 分配并写入 JSON 对象到不同的文件\n",
    "    for i in range(number_of_splits):\n",
    "        start_index = i * objects_per_split\n",
    "        end_index = start_index + objects_per_split\n",
    "        if i == number_of_splits - 1:\n",
    "            # 确保最后一个文件包含所有剩余的 JSON 对象\n",
    "            end_index = len(json_objects)\n",
    "\n",
    "        output_file_name = f\"{output_base_name}_{i + 1}.json\"\n",
    "        with open(output_file_name, 'w') as new_file:\n",
    "            for obj in json_objects[start_index:end_index]:\n",
    "                new_file.write(obj + '\\n')"
   ]
  },
  {
   "cell_type": "code",
   "execution_count": 4,
   "id": "61be5b53",
   "metadata": {},
   "outputs": [],
   "source": [
    "yelp_user_path = \"/Users/hyxsherry/Works/Glint/Project1/yelp_data/yelp_academic_dataset_user.json\"\n",
    "yelp_user_output = \"yelp_user_part\"\n",
    "\n",
    "yelp_review_path = \"/Users/hyxsherry/Works/Glint/Project1/yelp_data/yelp_academic_dataset_review.json\"\n",
    "yelp_review_output = \"yelp_review_part\""
   ]
  },
  {
   "cell_type": "code",
   "execution_count": 3,
   "id": "7489c69f",
   "metadata": {},
   "outputs": [],
   "source": [
    "# 调用函数\n",
    "split_json_file(yelp_user_path, 2, yelp_user_output)"
   ]
  },
  {
   "cell_type": "code",
   "execution_count": 6,
   "id": "219279d9",
   "metadata": {},
   "outputs": [],
   "source": [
    "split_json_file(yelp_review_path, 3, yelp_review_output)"
   ]
  },
  {
   "cell_type": "code",
   "execution_count": null,
   "id": "cecf11ed",
   "metadata": {},
   "outputs": [],
   "source": []
  }
 ],
 "metadata": {
  "kernelspec": {
   "display_name": "Python 3 (ipykernel)",
   "language": "python",
   "name": "python3"
  },
  "language_info": {
   "codemirror_mode": {
    "name": "ipython",
    "version": 3
   },
   "file_extension": ".py",
   "mimetype": "text/x-python",
   "name": "python",
   "nbconvert_exporter": "python",
   "pygments_lexer": "ipython3",
   "version": "3.9.12"
  },
  "toc": {
   "base_numbering": 1,
   "nav_menu": {},
   "number_sections": true,
   "sideBar": true,
   "skip_h1_title": false,
   "title_cell": "Table of Contents",
   "title_sidebar": "Contents",
   "toc_cell": false,
   "toc_position": {},
   "toc_section_display": true,
   "toc_window_display": false
  },
  "varInspector": {
   "cols": {
    "lenName": 16,
    "lenType": 16,
    "lenVar": 40
   },
   "kernels_config": {
    "python": {
     "delete_cmd_postfix": "",
     "delete_cmd_prefix": "del ",
     "library": "var_list.py",
     "varRefreshCmd": "print(var_dic_list())"
    },
    "r": {
     "delete_cmd_postfix": ") ",
     "delete_cmd_prefix": "rm(",
     "library": "var_list.r",
     "varRefreshCmd": "cat(var_dic_list()) "
    }
   },
   "types_to_exclude": [
    "module",
    "function",
    "builtin_function_or_method",
    "instance",
    "_Feature"
   ],
   "window_display": false
  }
 },
 "nbformat": 4,
 "nbformat_minor": 5
}
